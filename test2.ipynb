{
 "cells": [
  {
   "cell_type": "code",
   "execution_count": 20,
   "id": "initial_id",
   "metadata": {
    "collapsed": true,
    "ExecuteTime": {
     "end_time": "2023-11-02T19:38:22.054583Z",
     "start_time": "2023-11-02T19:38:22.048415Z"
    }
   },
   "outputs": [],
   "source": [
    "import pandas as pd\n",
    "import rasterio\n",
    "import xarray as xr\n",
    "import rioxarray\n",
    "import numpy as np\n",
    "import geopandas as gpd\n",
    "from sklearn.cluster import DBSCAN\n",
    "from sklearn.preprocessing import MinMaxScaler\n",
    "import time\n",
    "from shapely.geometry import Polygon"
   ]
  },
  {
   "cell_type": "code",
   "execution_count": 2,
   "outputs": [],
   "source": [
    "file_path = '/Users/andrea/Downloads/GHS_SMOD_E2010_GLOBE_R2023A_54009_1000_V1_0/GHS_SMOD_E2010_GLOBE_R2023A_54009_1000_V1_0.tif'"
   ],
   "metadata": {
    "collapsed": false,
    "ExecuteTime": {
     "end_time": "2023-11-02T19:27:45.106780Z",
     "start_time": "2023-11-02T19:27:45.104112Z"
    }
   },
   "id": "c192d6603fcd55a9"
  },
  {
   "cell_type": "code",
   "execution_count": 3,
   "outputs": [],
   "source": [
    "a = rioxarray.open_rasterio(file_path)"
   ],
   "metadata": {
    "collapsed": false,
    "ExecuteTime": {
     "end_time": "2023-11-02T19:27:45.116505Z",
     "start_time": "2023-11-02T19:27:45.107963Z"
    }
   },
   "id": "5419b02fa4711365"
  },
  {
   "cell_type": "code",
   "execution_count": 4,
   "outputs": [],
   "source": [
    "a = a.squeeze('band', drop=True)"
   ],
   "metadata": {
    "collapsed": false,
    "ExecuteTime": {
     "end_time": "2023-11-02T19:27:45.119254Z",
     "start_time": "2023-11-02T19:27:45.117484Z"
    }
   },
   "id": "89e6b22b6b108f0e"
  },
  {
   "cell_type": "code",
   "execution_count": 5,
   "outputs": [],
   "source": [
    "a_stacked = a.stack(z=('x', 'y'))"
   ],
   "metadata": {
    "collapsed": false,
    "ExecuteTime": {
     "end_time": "2023-11-02T19:27:52.663571Z",
     "start_time": "2023-11-02T19:27:45.119538Z"
    }
   },
   "id": "61e6ea0861f094b3"
  },
  {
   "cell_type": "code",
   "execution_count": 6,
   "outputs": [],
   "source": [
    "p = a_stacked.to_pandas().reset_index()"
   ],
   "metadata": {
    "collapsed": false,
    "ExecuteTime": {
     "end_time": "2023-11-02T19:27:56.908868Z",
     "start_time": "2023-11-02T19:27:52.664440Z"
    }
   },
   "id": "74d9971d2f723f79"
  },
  {
   "cell_type": "code",
   "execution_count": 7,
   "outputs": [],
   "source": [
    "p.rename(columns={0: 'degree_of_urbanization'}, inplace=True)"
   ],
   "metadata": {
    "collapsed": false,
    "ExecuteTime": {
     "end_time": "2023-11-02T19:27:56.950728Z",
     "start_time": "2023-11-02T19:27:56.948396Z"
    }
   },
   "id": "3ea6a9e21aa09d05"
  },
  {
   "cell_type": "code",
   "execution_count": 8,
   "outputs": [],
   "source": [
    "p = p.loc[p['degree_of_urbanization'] > 13]"
   ],
   "metadata": {
    "collapsed": false,
    "ExecuteTime": {
     "end_time": "2023-11-02T19:27:57.331174Z",
     "start_time": "2023-11-02T19:27:56.951459Z"
    }
   },
   "id": "492222b93b32a5b9"
  },
  {
   "cell_type": "code",
   "execution_count": 9,
   "outputs": [],
   "source": [
    "p_coords = p[['x', 'y']]"
   ],
   "metadata": {
    "collapsed": false,
    "ExecuteTime": {
     "end_time": "2023-11-02T19:27:57.340254Z",
     "start_time": "2023-11-02T19:27:57.338471Z"
    }
   },
   "id": "ce25a3d1588890e3"
  },
  {
   "cell_type": "code",
   "execution_count": 10,
   "outputs": [],
   "source": [
    "gpd_coords = gpd.GeoDataFrame(geometry=gpd.points_from_xy(p_coords.x, p_coords.y), crs='World_Mollweide')"
   ],
   "metadata": {
    "collapsed": false,
    "ExecuteTime": {
     "end_time": "2023-11-02T19:27:58.217823Z",
     "start_time": "2023-11-02T19:27:57.341583Z"
    }
   },
   "id": "b7be3d87fde1d584"
  },
  {
   "cell_type": "code",
   "execution_count": 11,
   "outputs": [],
   "source": [
    "def create_square(x_center, y_center, length_side):\n",
    "    half_length_side = length_side / 2\n",
    "    x_min = x_center - half_length_side\n",
    "    x_max = x_center + half_length_side\n",
    "    y_min = y_center - half_length_side\n",
    "    y_max = y_center + half_length_side\n",
    "    return Polygon([(x_min, y_min), (x_max, y_min), (x_max, y_max), (x_min, y_max)])"
   ],
   "metadata": {
    "collapsed": false,
    "ExecuteTime": {
     "end_time": "2023-11-02T19:27:58.223367Z",
     "start_time": "2023-11-02T19:27:58.218417Z"
    }
   },
   "id": "7d76fd774eea2195"
  },
  {
   "cell_type": "code",
   "execution_count": 12,
   "outputs": [],
   "source": [
    "gpd_coords['squares'] = gpd_coords.geometry.apply(lambda pt: create_square(x_center=pt.x, y_center=pt.y, length_side=1000))"
   ],
   "metadata": {
    "collapsed": false,
    "ExecuteTime": {
     "end_time": "2023-11-02T19:28:36.194315Z",
     "start_time": "2023-11-02T19:27:58.220623Z"
    }
   },
   "id": "c4ff418c4dc02d50"
  },
  {
   "cell_type": "code",
   "execution_count": 15,
   "outputs": [],
   "source": [
    "sqrs = gpd_coords[['squares']].set_geometry('squares')"
   ],
   "metadata": {
    "collapsed": false,
    "ExecuteTime": {
     "end_time": "2023-11-02T19:29:49.769386Z",
     "start_time": "2023-11-02T19:29:49.723603Z"
    }
   },
   "id": "45158ef3e9dde682"
  },
  {
   "cell_type": "code",
   "execution_count": 16,
   "outputs": [],
   "source": [
    "sqrs['cluster'] = np.random.randint(0, 100, sqrs.shape[0])"
   ],
   "metadata": {
    "collapsed": false,
    "ExecuteTime": {
     "end_time": "2023-11-02T19:30:12.312624Z",
     "start_time": "2023-11-02T19:30:12.283618Z"
    }
   },
   "id": "bf47e82b2ad367d7"
  },
  {
   "cell_type": "code",
   "execution_count": 17,
   "outputs": [],
   "source": [
    "dissolved_sqrs = sqrs.dissolve(by='cluster')"
   ],
   "metadata": {
    "collapsed": false,
    "ExecuteTime": {
     "end_time": "2023-11-02T19:33:23.716603Z",
     "start_time": "2023-11-02T19:31:34.514413Z"
    }
   },
   "id": "672f81bef9b443b6"
  },
  {
   "cell_type": "code",
   "execution_count": 31,
   "outputs": [],
   "source": [
    "bounds = dissolved_sqrs.bounds"
   ],
   "metadata": {
    "collapsed": false,
    "ExecuteTime": {
     "end_time": "2023-11-02T19:45:17.700380Z",
     "start_time": "2023-11-02T19:45:17.692888Z"
    }
   },
   "id": "bf67587e280e8767"
  },
  {
   "cell_type": "code",
   "execution_count": 32,
   "outputs": [],
   "source": [
    "bounds_row_0 = bounds.iloc[0]"
   ],
   "metadata": {
    "collapsed": false,
    "ExecuteTime": {
     "end_time": "2023-11-02T19:45:19.434817Z",
     "start_time": "2023-11-02T19:45:19.427196Z"
    }
   },
   "id": "b7749e93a484ab9b"
  },
  {
   "cell_type": "code",
   "execution_count": 34,
   "outputs": [],
   "source": [
    "w = a.loc[dict(x=slice(bounds_row_0.minx, bounds_row_0.maxx), y=slice(bounds_row_0.maxy, bounds_row_0.miny))]"
   ],
   "metadata": {
    "collapsed": false,
    "ExecuteTime": {
     "end_time": "2023-11-02T19:46:46.668776Z",
     "start_time": "2023-11-02T19:46:46.661738Z"
    }
   },
   "id": "16508ce4ea86b0b9"
  },
  {
   "cell_type": "code",
   "execution_count": 39,
   "outputs": [],
   "source": [
    "w_stack = w.stack(z=('x', 'y'))"
   ],
   "metadata": {
    "collapsed": false,
    "ExecuteTime": {
     "end_time": "2023-11-02T19:48:58.205361Z",
     "start_time": "2023-11-02T19:48:53.865369Z"
    }
   },
   "id": "190c35c35f5abeac"
  },
  {
   "cell_type": "code",
   "execution_count": 40,
   "outputs": [],
   "source": [
    "w_stack = w_stack.to_pandas().reset_index()"
   ],
   "metadata": {
    "collapsed": false,
    "ExecuteTime": {
     "end_time": "2023-11-02T19:49:01.326699Z",
     "start_time": "2023-11-02T19:48:58.206011Z"
    }
   },
   "id": "fb92c0e03dee840"
  },
  {
   "cell_type": "code",
   "execution_count": 42,
   "outputs": [],
   "source": [
    "w_stack.rename(columns={0: 'degree_of_urbanization'}, inplace=True)"
   ],
   "metadata": {
    "collapsed": false,
    "ExecuteTime": {
     "end_time": "2023-11-02T19:51:36.483151Z",
     "start_time": "2023-11-02T19:51:36.471365Z"
    }
   },
   "id": "6a0294abc6fb4052"
  },
  {
   "cell_type": "code",
   "execution_count": 43,
   "outputs": [],
   "source": [
    "w_stack = w_stack.loc[w_stack['degree_of_urbanization'] > 13]"
   ],
   "metadata": {
    "collapsed": false,
    "ExecuteTime": {
     "end_time": "2023-11-02T19:51:37.381990Z",
     "start_time": "2023-11-02T19:51:37.192194Z"
    }
   },
   "id": "c72f23297823550a"
  },
  {
   "cell_type": "code",
   "execution_count": 44,
   "outputs": [],
   "source": [
    "w_stack_gpd = gpd.GeoDataFrame(geometry=gpd.points_from_xy(w_stack.x, w_stack.y), crs='World_Mollweide')"
   ],
   "metadata": {
    "collapsed": false,
    "ExecuteTime": {
     "end_time": "2023-11-02T19:51:39.146209Z",
     "start_time": "2023-11-02T19:51:38.345843Z"
    }
   },
   "id": "1a7ecb8d84b6c80d"
  },
  {
   "cell_type": "code",
   "execution_count": null,
   "outputs": [],
   "source": [
    "j_mask = w_stack_gpd.within(dissolved_sqrs.iloc[0:1].geometry.iloc[0])"
   ],
   "metadata": {
    "collapsed": false,
    "is_executing": true,
    "ExecuteTime": {
     "start_time": "2023-11-02T19:57:42.100940Z"
    }
   },
   "id": "98ed768280d0cd2c"
  },
  {
   "cell_type": "code",
   "execution_count": null,
   "outputs": [],
   "source": [
    "j = w_stack_gpd.loc[j_mask]"
   ],
   "metadata": {
    "collapsed": false,
    "is_executing": true
   },
   "id": "a84af30f8efc2ecd"
  },
  {
   "cell_type": "code",
   "execution_count": 50,
   "outputs": [],
   "source": [
    "j = dissolved_sqrs.iloc[0:1].sjoin(w_stack_gpd, predicate='contains', how='inner')"
   ],
   "metadata": {
    "collapsed": false,
    "ExecuteTime": {
     "end_time": "2023-11-02T19:53:32.326840Z",
     "start_time": "2023-11-02T19:53:32.233061Z"
    }
   },
   "id": "19ee4e3a56398a84"
  },
  {
   "cell_type": "code",
   "execution_count": 35,
   "outputs": [],
   "source": [
    "windows = [rasterio.windows.from_bounds(*row, transform=a.rio.transform()) for _, row in bounds.iterrows()]"
   ],
   "metadata": {
    "collapsed": false,
    "ExecuteTime": {
     "end_time": "2023-11-02T19:47:00.077258Z",
     "start_time": "2023-11-02T19:47:00.044331Z"
    }
   },
   "id": "ffb951aa8ec16097"
  },
  {
   "cell_type": "code",
   "execution_count": 36,
   "outputs": [],
   "source": [
    "b = rasterio.open(file_path)"
   ],
   "metadata": {
    "collapsed": false,
    "ExecuteTime": {
     "end_time": "2023-11-02T19:47:00.790302Z",
     "start_time": "2023-11-02T19:47:00.762965Z"
    }
   },
   "id": "7755a1ead227cd54"
  },
  {
   "cell_type": "code",
   "execution_count": 37,
   "outputs": [],
   "source": [
    "w1 = b.read(1, window=windows[0])"
   ],
   "metadata": {
    "collapsed": false,
    "ExecuteTime": {
     "end_time": "2023-11-02T19:47:02.559488Z",
     "start_time": "2023-11-02T19:47:01.507582Z"
    }
   },
   "id": "dba63c611b245418"
  },
  {
   "cell_type": "code",
   "execution_count": null,
   "outputs": [],
   "source": [],
   "metadata": {
    "collapsed": false
   },
   "id": "f0d4807c8c1a062e"
  }
 ],
 "metadata": {
  "kernelspec": {
   "display_name": "Python 3",
   "language": "python",
   "name": "python3"
  },
  "language_info": {
   "codemirror_mode": {
    "name": "ipython",
    "version": 2
   },
   "file_extension": ".py",
   "mimetype": "text/x-python",
   "name": "python",
   "nbconvert_exporter": "python",
   "pygments_lexer": "ipython2",
   "version": "2.7.6"
  }
 },
 "nbformat": 4,
 "nbformat_minor": 5
}
